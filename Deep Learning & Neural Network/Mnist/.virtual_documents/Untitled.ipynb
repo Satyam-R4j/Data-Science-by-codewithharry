import tensorflow as tf


import matplotlib.pyplot as plt


(x_train,x_test),(y_train,y_test) = tf.keras.datasets.mnist.load_data()



