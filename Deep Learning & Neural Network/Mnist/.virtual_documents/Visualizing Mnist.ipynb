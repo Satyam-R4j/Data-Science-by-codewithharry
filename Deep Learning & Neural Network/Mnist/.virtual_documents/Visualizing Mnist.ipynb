import tensorflow as tf


import matplotlib.pyplot as plt


(x_train,y_train),(x_test,y_test) = tf.keras.datasets.mnist.load_data()


plt.figure(figsize=(10,4))
for i in range(10):
    plt.subplot(1,10,i+1)
    plt.imshow(x_train[i], cmap="gray")
    plt.axis("off")
    plt.title(str(y_train[i]),fontsize=10)
plt.tight_layout()
plt.show()



