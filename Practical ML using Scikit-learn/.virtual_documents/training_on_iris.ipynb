import pandas as pd


from sklearn.ensemble import RandomForestClassifier


data = pd.read_excel("iris-train.xlsx")


data.head


x= data.iloc[:,:-1]


data


x


y = data.iloc[:,-1]


y


model = RandomForestClassifier()


model.fit(x.values,y.values)


predict = model.predict([[5.4, 3, 4.5, 1.5]])


predict


testData = pd.read_excel("iris-test.xlsx")


x_test = testData.iloc[:,:-1]


y_test = testData.iloc[:,-1]


predictions = model.predict(x_test.values)


predictions


actual = y_test.values


count = 0
for i in range(0, len(actual)):
    if actual[i] == predictions[i]:
        count = count + 1


print((count * 100 ) /len(actual))



