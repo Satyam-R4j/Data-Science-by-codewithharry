import pandas as pd
import numpy as np


df = pd.read_csv("housing.csv")


df['income_cat'] = pd.cut(df['median_income'], bins=[0, 1.5,3.0,4.5,6.0, np.inf], labels=[1,2,3,4,5])


from sklearn.model_selection import StratifiedShuffleSplit
split = StratifiedShuffleSplit(n_splits=1, test_size=0.2, random_state=42)
for train_index, test_index in split.split(df, df['income_cat']):
    strat_train_set = df.loc[train_index]
    strat_test_set = df.loc[test_index]


for sett in (strat_test_set, strat_train_set):
    sett.drop("income_cat", axis=1, inplace=True)


df = strat_train_set.copy()


df.plot(kind="scatter", x="latitude", y ="longitude", grid=True)


df.plot(kind="scatter", x="latitude", y ="longitude", grid=True, alpha=0.3)


df.plot(kind="scatter", x="latitude", y ="longitude", cmap="jet", c="median_house_value")


df.drop(labels="ocean_proximity", inplace=True, axis=1)
df.corr()


from pandas.plotting import scatter_matrix
attributes = ["housing_median_age", "median_income", "median_house_value"]
scatter_matrix(df[attributes], figsize=(12,8))



