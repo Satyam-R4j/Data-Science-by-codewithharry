import pandas as pd
import numpy as np


df = pd.read_csv("housing.csv")


df['income_cat'] = pd.cut(df['median_income'], bins=[0, 1.5,3.0,4.5,6.0, np.inf], labels=[1,2,3,4,5])


from sklearn.model_selection import StratifiedShuffleSplit
split = StratifiedShuffleSplit(n_splits=1, test_size=0.2, random_state=42)
for train_index, test_index in split.split(df, df['income_cat']):
    strat_train_set = df.loc[train_index]
    strat_test_set = df.loc[test_index]


for sett in (strat_test_set, strat_train_set):
    sett.drop("income_cat", axis=1, inplace=True)


df = strat_train_set.copy()


housing = strat_train_set.drop("median_house_value", axis=1 )
housing_labels = strat_train_set["median_house_value"].copy()


from sklearn.impute import SimpleImputer


imputer = SimpleImputer(strategy="median")


housing_num = housing.select_dtypes(include=[np.number])
imputer.fit(housing_num)


X = imputer.transform(housing_num)


X


housing = pd.DataFrame(X, columns=housing_num.columns, index=housing_num.index)


housing['ocean_proximity'] = df['ocean_proximity']


housing = housing[['ocean_proximity']]


housing


set(housing['ocean_proximity'])


from sklearn.preprocessing import OneHotEncoder


ordinal_encoder = OneHotEncoder()


housing_cat = ordinal_encoder.fit_transform(housing)


ordinal_encoder.categories_


housing_cat.toarray()


housing_cat = pd.DataFrame(housing_cat.toarray(), columns=['<1H OCEAN', 'INLAND', 'ISLAND', 'NEAR BAY', 'NEAR OCEAN'], index=housing_num.index)


housing_cat


df = pd.concat([df, housing_cat], axis=1)


df


df = df.drop("ocean_proximity", axis=1)


from sklearn.preprocessing import StandardScaler


scaler = StandardScaler()


df_scaler = scaler.fit_transform(df)


df_scaler = pd.DataFrame(df_scaler, columns=df.columns, index=df.index)


df_scaler



