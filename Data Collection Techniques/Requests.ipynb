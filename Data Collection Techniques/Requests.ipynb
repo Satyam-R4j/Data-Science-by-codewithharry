{
 "cells": [
  {
   "cell_type": "code",
   "execution_count": 1,
   "id": "0d004aba-1afe-4c1b-a40e-7a7cf01c2d9f",
   "metadata": {},
   "outputs": [],
   "source": [
    "import requests"
   ]
  },
  {
   "cell_type": "code",
   "execution_count": 16,
   "id": "8027d83c-782e-4394-a474-cd1423af2541",
   "metadata": {},
   "outputs": [],
   "source": [
    "for i in range(1,51):\n",
    "    html = requests.get(f\"https://books.toscrape.com/catalogue/page-{i}.html\")\n",
    "    with open(f\"html/page{i}.html\",'w',encoding=\"utf-8\") as f:\n",
    "        f.write(html.text)"
   ]
  },
  {
   "cell_type": "code",
   "execution_count": null,
   "id": "f4f397e4-7975-4d69-b292-c7daa3c8290a",
   "metadata": {},
   "outputs": [],
   "source": []
  }
 ],
 "metadata": {
  "kernelspec": {
   "display_name": "Python 3 (ipykernel)",
   "language": "python",
   "name": "python3"
  },
  "language_info": {
   "codemirror_mode": {
    "name": "ipython",
    "version": 3
   },
   "file_extension": ".py",
   "mimetype": "text/x-python",
   "name": "python",
   "nbconvert_exporter": "python",
   "pygments_lexer": "ipython3",
   "version": "3.12.7"
  }
 },
 "nbformat": 4,
 "nbformat_minor": 5
}
