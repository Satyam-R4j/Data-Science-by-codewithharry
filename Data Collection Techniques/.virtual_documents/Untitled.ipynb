import requests


html = requests.get("https://books.toscrape.com/")


with open(f"html/page1.html",'w') as f:



