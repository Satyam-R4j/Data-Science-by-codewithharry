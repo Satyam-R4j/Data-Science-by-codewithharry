import matplotlib.pyplot as plt


plt.plot([1,2,3],[4,5,6])


years = [1990, 1992, 1994, 1996, 1998, 2000, 2003, 2005, 2007, 2010]
runs =  [500, 700, 1100, 1500, 1800, 1200, 1700, 1300, 900, 1500]


plt.plot(years,runs)
plt.xlabel("Years")
plt.ylabel("Runs")
plt.title("Sachin Tendulkar's Yearly Runs")


kohli = [0, 0, 500, 800, 1100, 1300, 1500, 1800, 1900, 2100]
sehwag = [0, 300, 800, 1200, 1500, 1700, 1600, 1400, 1000, 0]


plt.plot(years, kohli, label="Virat")
plt.plot(years, sehwag, label = "sehwag")
plt.xlabel("Years")
plt.ylabel("Runs")
plt.title("Performance Comparison")
plt.legend()


plt.plot(years, kohli, 'ro--', label="Kohli")
plt.plot(years, sehwag, 'g^:', label="Sehwag")



plt.plot(years, kohli, color="orange" , linestyle="--", label="Kohli")
plt.plot(years, sehwag, , label="Sehwag")




