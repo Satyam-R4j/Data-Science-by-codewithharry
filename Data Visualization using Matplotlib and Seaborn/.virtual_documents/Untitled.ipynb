import matplotlib.pyplot as plt


labels = ["Sachin", "Sehwag", "Kohli", "Yuvraj"]
runs = [18000, 8000, 12000, 9500]
colors = ['#ff9999','#66b3ff','#99ff99','#ffcc99']

plt.title("Career Runs of Indian Batsman")
plt.pie(runs, labels=labels, colors=colors, wedgeprops={'edgecolor': "black", 'linewidth':2, 'linestyle':'--'})
plt.tight_layout()


explode = [0.1,0,0.2,0]
plt.pei(runs, labels= labels, explode = explode, colors = colors)



