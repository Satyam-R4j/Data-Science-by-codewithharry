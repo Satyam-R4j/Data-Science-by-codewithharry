import seaborn as sns



print(sns.get_dataset_names())



tips = sns.load_dataset("tips")



tips.head()


sns.lineplot(x="total_bill", y="tip", data = tips)



sns.scatterplot(x="total_bill", y="tip", data = tips)



flights = sns.load_dataset("flights")
flights.head()


pv = flights.pivot(index="month", columns="year", values="passengers")


pv



sns.heatmap(pv, annot=True, fmt="d", cmap="YlGnBu")



