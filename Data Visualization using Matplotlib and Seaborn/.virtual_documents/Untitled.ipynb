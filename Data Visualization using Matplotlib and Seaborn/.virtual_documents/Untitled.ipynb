import matplotlib.pyplot as plt


x = [1,2,3,4,5]
y = [i * 2 for i in x]
z = [i ** 2 for i in x]


plt.subplot(1,2,1)
plt.plot(x,y)
plt.title("Double of x")


plt.subplot(1,2,2)
plt.plot(x,z)
plt.title("Square of x")




fig, axs = plt.subplots(1, 2, figsize=(10, 4))

axs[0].plot(x, y1)
axs[0].set_title('x * 2')

axs[1].plot(x, y2)
axs[1].set_title('x squared')
 
fig.suptitle('Simple Comparison Plots', fontsize=14)
fig.tight_layout()
fig.subplots_adjust(top=0.85)  # So title doesn't overlap

plt.show()



