import matplotlib.pyplot as plt


activities = ['Studying', 'Playing', 'Watching TV', 'Sleeping']
time_spent = [3, 2, 2, 5]  # hours in a day
 
colors = ['skyblue', 'lightgreen', 'gold', 'lightcoral']


plt.figure(figsize=(6,6))
plt.pie(time_spent, labels=activities, colors=colors, startangle=90,autopct='%1.1f%%')
plt.tight_layout()
plt.title("school going studesnts")


days = [1, 2, 3, 4, 5, 6, 7]  # Days of the week
studying = [3, 4, 3, 5, 4, 3, 4]
playing = [2, 2, 1, 1, 2, 3, 2]
watching_tv = [2, 1, 2, 2, 1, 1, 1]
sleeping = [5, 5, 6, 5, 6, 5, 5]
 
labels = ['Studying', 'Playing', 'Watching TV', 'Sleeping']
colors = ['skyblue', 'lightgreen', 'gold', 'lightcoral']
plt.figure(figsize=(6,6))
plt.stackplot(days, labels=labels, colors=colors,







