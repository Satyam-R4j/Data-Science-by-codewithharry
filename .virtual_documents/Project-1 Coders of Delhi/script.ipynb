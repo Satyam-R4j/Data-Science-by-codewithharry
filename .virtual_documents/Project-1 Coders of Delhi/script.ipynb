import json


def load_data(filename):
    with open(filename, "r") as f:
        data = json.load(f)
    return data


data  = load_data("data.json")


data


type(data)


#Function to display users and their connections.
def display_user(data):
    print("Users and their connections\n")
    for user in data['users']:
        print(f"{user['name']} is friends with: {user['friends']} and liked pages are {user['liked_pages']}")

    print("Pages Information")
    for page in data['pages']:
        print(f"{page['id']}: {page['name']} ")

display_user(data)
        






