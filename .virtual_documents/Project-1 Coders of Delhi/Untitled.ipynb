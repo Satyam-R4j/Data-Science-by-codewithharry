import json

def clean_data(data):

data = json.load(open("data2.json"))
data = clean_data(data)




