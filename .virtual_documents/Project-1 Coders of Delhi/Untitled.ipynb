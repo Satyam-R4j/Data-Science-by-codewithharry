import json

def load_data(filename):
    with open(filename , "r") as f:
        return json.load(f)

def pages_you_may_liked(user_id, data):
    user_pages = {}
    for use in data['users']:
        user_pages[user['id']] = set(user['liked_pages'])

    if user_id not in user_pages:
        return []

    user_liked_pages = user_pages[user_id]
    page_suggestion = {}

    for other_user, pages in user_pages.items():
        if other_user != user_id:
            shared_pages = user_liked_pages.intersection(pages)
        for page in pages:
    
    



