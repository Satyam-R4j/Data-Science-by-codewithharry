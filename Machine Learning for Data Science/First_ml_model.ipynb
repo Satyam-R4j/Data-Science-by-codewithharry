{
 "cells": [
  {
   "cell_type": "code",
   "execution_count": 1,
   "id": "658ac4be-23d3-4c86-bd98-dd8501347b35",
   "metadata": {},
   "outputs": [],
   "source": [
    "from sklearn.tree import DecisionTreeClassifier"
   ]
  },
  {
   "cell_type": "code",
   "execution_count": 2,
   "id": "b706a1e2-7b51-4bc6-bb9e-f1824c864603",
   "metadata": {},
   "outputs": [],
   "source": [
    "features = [\n",
    "    [150, 0],  # Apple\n",
    "    [170, 0],  # Apple\n",
    "    [130, 1],  # Orange\n",
    "    [120, 1],  # Orange\n",
    "]\n",
    "\n",
    "labels = [\"apple\", \"apple\", \"orange\", \"orange\"]\n"
   ]
  },
  {
   "cell_type": "code",
   "execution_count": 3,
   "id": "1f3b53e9-bbbc-4a64-b31e-12731ad25a6e",
   "metadata": {},
   "outputs": [],
   "source": [
    "clf = DecisionTreeClassifier()\n"
   ]
  },
  {
   "cell_type": "code",
   "execution_count": 4,
   "id": "634226e4-43d9-437e-88ec-30b1078a9a08",
   "metadata": {},
   "outputs": [],
   "source": [
    "clf = clf.fit(features, labels)"
   ]
  },
  {
   "cell_type": "code",
   "execution_count": 5,
   "id": "8c12e218-24ae-4c06-8ce8-6e889a34c3b3",
   "metadata": {},
   "outputs": [
    {
     "data": {
      "text/plain": [
       "array(['apple'], dtype='<U6')"
      ]
     },
     "execution_count": 5,
     "metadata": {},
     "output_type": "execute_result"
    }
   ],
   "source": [
    "clf.predict([[150,1]])"
   ]
  },
  {
   "cell_type": "code",
   "execution_count": null,
   "id": "2f00cb7a-421e-4205-8c58-82cbac5ad81e",
   "metadata": {},
   "outputs": [],
   "source": []
  }
 ],
 "metadata": {
  "kernelspec": {
   "display_name": "Python 3 (ipykernel)",
   "language": "python",
   "name": "python3"
  },
  "language_info": {
   "codemirror_mode": {
    "name": "ipython",
    "version": 3
   },
   "file_extension": ".py",
   "mimetype": "text/x-python",
   "name": "python",
   "nbconvert_exporter": "python",
   "pygments_lexer": "ipython3",
   "version": "3.12.7"
  }
 },
 "nbformat": 4,
 "nbformat_minor": 5
}
