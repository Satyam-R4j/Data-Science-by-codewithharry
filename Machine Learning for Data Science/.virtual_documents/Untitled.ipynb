from sklearn.tree import DecisionTreeClassifier


features = [
    [150, 0],  # Apple
    [170, 0],  # Apple
    [130, 1],  # Orange
    [120, 1],  # Orange
]

labels = ["apple", "apple", "orange", "orange"]



clf = DecisionTreeClassifier()



clf = clf.fit(features, labels)


clf.predict([[150,1]])



