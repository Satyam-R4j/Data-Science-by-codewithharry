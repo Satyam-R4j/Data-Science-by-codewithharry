{
 "cells": [
  {
   "cell_type": "code",
   "execution_count": 2,
   "id": "3fd89321-aa6c-4ba5-97c1-34ac8b3b7301",
   "metadata": {},
   "outputs": [
    {
     "ename": "SyntaxError",
     "evalue": "unterminated string literal (detected at line 6) (97010317.py, line 6)",
     "output_type": "error",
     "traceback": [
      "\u001b[1;36m  Cell \u001b[1;32mIn[2], line 6\u001b[1;36m\u001b[0m\n\u001b[1;33m    data['users'] = [user for user in data[\"users\u001b[0m\n\u001b[1;37m                                           ^\u001b[0m\n\u001b[1;31mSyntaxError\u001b[0m\u001b[1;31m:\u001b[0m unterminated string literal (detected at line 6)\n"
     ]
    }
   ],
   "source": [
    "import json\n",
    "\n",
    "def clean_data(data):\n",
    "\n",
    "    #remove user with missing names\n",
    "    data['users'] = [user for user in data[\"users\"] if user[\"name\"].strip()]\n",
    "    return data\n",
    "\n",
    "data = json.load(open(\"data2.json\"))\n",
    "data = clean_data(data)\n",
    "json.dump(data, open(\"cleaned_data2.json\",\"w\"), indent=4)\n",
    "print(\"Data has been successfully cleaned\")"
   ]
  },
  {
   "cell_type": "code",
   "execution_count": null,
   "id": "ba771e1d-681b-4a2e-ab0e-e250a5a1f663",
   "metadata": {},
   "outputs": [],
   "source": []
  }
 ],
 "metadata": {
  "kernelspec": {
   "display_name": "Python 3 (ipykernel)",
   "language": "python",
   "name": "python3"
  },
  "language_info": {
   "codemirror_mode": {
    "name": "ipython",
    "version": 3
   },
   "file_extension": ".py",
   "mimetype": "text/x-python",
   "name": "python",
   "nbconvert_exporter": "python",
   "pygments_lexer": "ipython3",
   "version": "3.12.7"
  }
 },
 "nbformat": 4,
 "nbformat_minor": 5
}
