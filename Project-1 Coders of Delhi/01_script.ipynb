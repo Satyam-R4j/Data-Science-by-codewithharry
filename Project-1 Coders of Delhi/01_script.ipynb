{
 "cells": [
  {
   "cell_type": "code",
   "execution_count": 1,
   "id": "09eca7ba-965a-45f7-8de8-eaded4aab41e",
   "metadata": {},
   "outputs": [],
   "source": [
    "import json"
   ]
  },
  {
   "cell_type": "code",
   "execution_count": 2,
   "id": "343a0a3a-99ea-467e-879f-aac42ec5f704",
   "metadata": {},
   "outputs": [],
   "source": [
    "def load_data(filename):\n",
    "    with open(filename, \"r\") as f:\n",
    "        data = json.load(f)\n",
    "    return data"
   ]
  },
  {
   "cell_type": "code",
   "execution_count": 3,
   "id": "390b5ebf-bf78-40bc-a3a3-b8f005ff7eaf",
   "metadata": {},
   "outputs": [],
   "source": [
    "data  = load_data(\"data.json\")"
   ]
  },
  {
   "cell_type": "code",
   "execution_count": 4,
   "id": "22c191d3-04f3-4149-ba17-a927db228867",
   "metadata": {},
   "outputs": [
    {
     "data": {
      "text/plain": [
       "{'users': [{'id': 1, 'name': 'Amit', 'friends': [2, 3], 'liked_pages': [101]},\n",
       "  {'id': 2, 'name': 'Priya', 'friends': [1, 4], 'liked_pages': [102]},\n",
       "  {'id': 3, 'name': 'Rahul', 'friends': [1], 'liked_pages': [101, 103]},\n",
       "  {'id': 4, 'name': 'Sara', 'friends': [2], 'liked_pages': [104]}],\n",
       " 'pages': [{'id': 101, 'name': 'Python Developers'},\n",
       "  {'id': 102, 'name': 'Data Science Enthusiasts'},\n",
       "  {'id': 103, 'name': 'AI & ML Community'},\n",
       "  {'id': 104, 'name': 'Web Dev Hub'}]}"
      ]
     },
     "execution_count": 4,
     "metadata": {},
     "output_type": "execute_result"
    }
   ],
   "source": [
    "data"
   ]
  },
  {
   "cell_type": "code",
   "execution_count": 5,
   "id": "76cb6a1c-6bdb-4498-847f-5fc08f7fbfd4",
   "metadata": {},
   "outputs": [
    {
     "data": {
      "text/plain": [
       "dict"
      ]
     },
     "execution_count": 5,
     "metadata": {},
     "output_type": "execute_result"
    }
   ],
   "source": [
    "type(data)"
   ]
  },
  {
   "cell_type": "code",
   "execution_count": 6,
   "id": "7711e2f0-a20b-4d0d-b660-ab9f4f25bea4",
   "metadata": {},
   "outputs": [
    {
     "name": "stdout",
     "output_type": "stream",
     "text": [
      "Users and their connections\n",
      "\n",
      "Amit is friends with: [2, 3] and liked pages are [101]\n",
      "Priya is friends with: [1, 4] and liked pages are [102]\n",
      "Rahul is friends with: [1] and liked pages are [101, 103]\n",
      "Sara is friends with: [2] and liked pages are [104]\n",
      "Pages Information\n",
      "101: Python Developers \n",
      "102: Data Science Enthusiasts \n",
      "103: AI & ML Community \n",
      "104: Web Dev Hub \n"
     ]
    }
   ],
   "source": [
    "#Function to display users and their connections.\n",
    "def display_user(data):\n",
    "    print(\"Users and their connections\\n\")\n",
    "    for user in data['users']:\n",
    "        print(f\"{user['name']} is friends with: {user['friends']} and liked pages are {user['liked_pages']}\")\n",
    "\n",
    "    print(\"Pages Information\")\n",
    "    for page in data['pages']:\n",
    "        print(f\"{page['id']}: {page['name']} \")\n",
    "\n",
    "display_user(data)\n",
    "        "
   ]
  },
  {
   "cell_type": "code",
   "execution_count": null,
   "id": "9ab63b86-aa9a-40e8-ac69-f7e2971d67a4",
   "metadata": {},
   "outputs": [],
   "source": []
  },
  {
   "cell_type": "code",
   "execution_count": null,
   "id": "d3df74a2-a78f-4c40-9576-4749127809a9",
   "metadata": {},
   "outputs": [],
   "source": []
  }
 ],
 "metadata": {
  "kernelspec": {
   "display_name": "Python 3 (ipykernel)",
   "language": "python",
   "name": "python3"
  },
  "language_info": {
   "codemirror_mode": {
    "name": "ipython",
    "version": 3
   },
   "file_extension": ".py",
   "mimetype": "text/x-python",
   "name": "python",
   "nbconvert_exporter": "python",
   "pygments_lexer": "ipython3",
   "version": "3.12.7"
  }
 },
 "nbformat": 4,
 "nbformat_minor": 5
}
